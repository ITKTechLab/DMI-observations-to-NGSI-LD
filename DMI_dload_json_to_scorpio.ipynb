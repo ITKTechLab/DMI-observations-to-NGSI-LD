{
 "cells": [
  {
   "cell_type": "code",
   "execution_count": null,
   "metadata": {},
   "outputs": [],
   "source": [
    "# Code to upload DMI data to scorpio_broker\n",
    "# Descrition: the code takes required information (API key, staion id, feature etc) for dowloading data from DMI and saves them as json file format\n",
    "############## generate an access token to enter scropio_broker and update the data\n",
    "\n",
    "# By Akanksha Upadhyay (akankshaupadhyayiitkgp@gmail.com)\n",
    "# date: 22/march/2025\n"
   ]
  },
  {
   "cell_type": "code",
   "execution_count": null,
   "metadata": {},
   "outputs": [],
   "source": [
    "import requests\n",
    "import pandas as pd\n",
    "import json\n",
    "from datetime import datetime\n",
    "import os\n",
    "from dotenv import load_dotenv\n",
    "load_dotenv(override=True)"
   ]
  },
  {
   "cell_type": "code",
   "execution_count": null,
   "metadata": {},
   "outputs": [],
   "source": [
    "# Define the API call to fetch data\n",
    "\n",
    "url = \"https://dmigw.govcloud.dk/v2/climateData/collections/stationValue/items?\"\n",
    "# param = \"min_temp\"          ## check the param list from DMI, add more if want\n",
    "\n",
    "application_key = os.getenv(\"application_key\")\n",
    "station_ID = os.getenv(\"station_ID\")        # check the station list from DMI\n",
    "\n",
    "start_time = os.getenv(\"start_time\")\n",
    "end_time = os.getenv(\"end_time\")\n",
    "\n",
    "\n",
    "broker_url = os.getenv(\"broker_url\")\n",
    "payload_token = os.getenv(\"payload_token\")\n",
    "ngsild_tenant = os.getenv(\"ngsild_tenant\")\n"
   ]
  },
  {
   "cell_type": "code",
   "execution_count": null,
   "metadata": {},
   "outputs": [],
   "source": [
    "##  getting response for data using above parameters\n",
    "res = requests.get(url, params={\"api-key\": application_key, \"stationId\": station_ID, \"datetime\": f\"{start_time}/{end_time}\"})\n",
    "print(res)"
   ]
  },
  {
   "cell_type": "code",
   "execution_count": null,
   "metadata": {},
   "outputs": [],
   "source": [
    "# Get the JSON response\n",
    "response_json = res.json()\n",
    "\n",
    "df = pd.json_normalize(response_json['features'])"
   ]
  },
  {
   "cell_type": "code",
   "execution_count": null,
   "metadata": {},
   "outputs": [],
   "source": [
    "# Filter the DataFrame for the required features\n",
    "\n",
    "selected_features = ['bright_sunshine', 'max_temp_w_date', 'min_temp', 'acc_precip']\n",
    "df = df[df['properties.parameterId'].isin(selected_features)]"
   ]
  },
  {
   "cell_type": "code",
   "execution_count": null,
   "metadata": {},
   "outputs": [],
   "source": [
    "# Ensure proper GeoJSON format for geometry\n",
    "if 'geometry.coordinates' in df.columns:\n",
    "    df['geometry'] = df.apply(\n",
    "        lambda row: {\n",
    "            \"type\": \"Point\",\n",
    "            \"coordinates\": row[\"geometry.coordinates\"]\n",
    "        } if isinstance(row[\"geometry.coordinates\"], list) else None,\n",
    "        axis=1\n",
    "    )"
   ]
  },
  {
   "cell_type": "code",
   "execution_count": null,
   "metadata": {},
   "outputs": [],
   "source": [
    "# Fix the observedAt format to ISO 8601 without microseconds\n",
    "def fix_datetime_format(date_str):\n",
    "    try:\n",
    "        # Parse date-time string and drop microseconds\n",
    "        dt = datetime.fromisoformat(date_str.replace(\"Z\", \"+00:00\"))  # Handle 'Z' for UTC\n",
    "        return dt.isoformat(timespec='seconds').replace(\"+00:00\", \"Z\")  # Convert back to ISO 8601\n",
    "    except ValueError:\n",
    "        return None  # Return None if parsing fails\n",
    "\n",
    "df['properties.calculatedAt'] = df['properties.calculatedAt'].apply(fix_datetime_format)\n"
   ]
  },
  {
   "cell_type": "code",
   "execution_count": null,
   "metadata": {},
   "outputs": [],
   "source": [
    "# Build the payload in the expected format for updating entities\n",
    "payload = []\n",
    "for _, row in df.iterrows():\n",
    "    entity = {\n",
    "        \"id\": f\"urn:ngsi-ld:WeatherStation:{row['properties.stationId']}\",\n",
    "        \"type\": \"WeatherObservation\",\n",
    "        row['properties.parameterId']: {  # Dynamically add the parameter as an attribute\n",
    "            \"type\": \"Property\",\n",
    "            \"value\": row[\"properties.value\"]\n",
    "        },\n",
    "        \"geometry\": {\n",
    "            \"type\": \"GeoProperty\",\n",
    "            \"value\": row[\"geometry\"]\n",
    "        },\n",
    "        \"observedAt\": row[\"properties.calculatedAt\"],  # Reformatted datetime\n",
    "        \"@context\": [\n",
    "            \"https://uri.etsi.org/ngsi-ld/v1/ngsi-ld-core-context.jsonld\"\n",
    "        ]\n",
    "    }\n",
    "    payload.append(entity)"
   ]
  },
  {
   "cell_type": "code",
   "execution_count": null,
   "metadata": {},
   "outputs": [],
   "source": [
    "# Save the payload as a JSON file for review\n",
    "output_file_path = r\"output_new.json\"\n",
    "with open(output_file_path, \"w\") as file:\n",
    "    json.dump(payload, file, indent=4)\n",
    "print(f\"Filtered JSON file saved at {output_file_path}\")\n"
   ]
  },
  {
   "cell_type": "code",
   "execution_count": null,
   "metadata": {},
   "outputs": [],
   "source": [
    "# Obtain the access token\n",
    "token_url = \"https://keycloak.prod.os2iot.kmd.dk/realms/master/protocol/openid-connect/token\"\n",
    "\n",
    "headers = {\n",
    "    'Content-Type': 'application/x-www-form-urlencoded'\n",
    "}\n",
    "token_response = requests.post(token_url, headers=headers, data=payload_token)\n",
    "if token_response.status_code != 200:\n",
    "    print(f\"Error fetching token: {token_response.status_code}, {token_response.text}\")\n",
    "    exit()\n",
    "\n",
    "access_token = token_response.json()[\"access_token\"]\n",
    "#print(f\"Access Token: {access_token}\")\n"
   ]
  },
  {
   "cell_type": "code",
   "execution_count": null,
   "metadata": {},
   "outputs": [],
   "source": [
    "# Use the update endpoint to update existing entities\n",
    "\n",
    "# Load the generated JSON file as payload\n",
    "with open(output_file_path, \"r\") as file:\n",
    "    payload = json.load(file)\n",
    "\n",
    "# Define the headers for the update request\n",
    "headers = {\n",
    "    'Content-Type': 'application/ld+json',\n",
    "    'ngsild-tenant': ngsild_tenant,\n",
    "    'Authorization': f'Bearer {access_token}'\n",
    "}\n",
    "\n"
   ]
  },
  {
   "cell_type": "code",
   "execution_count": null,
   "metadata": {},
   "outputs": [],
   "source": [
    "# Split the payload into smaller batches\n",
    "# Run in batches because the server shut downs the connection in some time\n",
    "\n",
    "batch_size = 10  # Number of entities per batch\n",
    "retries = 5  # Number of retries for each batch\n",
    "\n",
    "for i in range(0, len(payload), batch_size):\n",
    "    payload_batch = payload[i:i + batch_size]  # Create a batch\n",
    "    for attempt in range(retries):  # Retry logic\n",
    "        response = requests.request(\"POST\", broker_url, headers=headers, json=payload_batch)\n",
    "        # response = requests.post(broker_url, headers=headers, json=payload_batch)\n",
    "        if response.status_code == 204:  # Success with no content\n",
    "            print(f\"Batch {i // batch_size + 1} processed successfully (204 No Content).\")\n",
    "            break\n",
    "        elif response.status_code == 504:  # Gateway timeout\n",
    "            print(f\"504 error for batch {i // batch_size + 1} on attempt {attempt + 1}. Retrying...\")\n",
    "            time.sleep(2 ** attempt)  # Exponential backoff\n",
    "        else:  # Handle other unexpected errors\n",
    "            print(f\"Error for batch {i // batch_size + 1}: {response.status_code}, {response.text}\")\n",
    "            break"
   ]
  }
 ],
 "metadata": {
  "kernelspec": {
   "display_name": "Python 3",
   "language": "python",
   "name": "python3"
  },
  "language_info": {
   "codemirror_mode": {
    "name": "ipython",
    "version": 3
   },
   "file_extension": ".py",
   "mimetype": "text/x-python",
   "name": "python",
   "nbconvert_exporter": "python",
   "pygments_lexer": "ipython3",
   "version": "3.12.2"
  }
 },
 "nbformat": 4,
 "nbformat_minor": 2
}
